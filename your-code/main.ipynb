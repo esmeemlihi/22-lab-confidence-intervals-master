{
 "cells": [
  {
   "cell_type": "markdown",
   "metadata": {},
   "source": [
    "# Confidence Intervals"
   ]
  },
  {
   "cell_type": "code",
   "execution_count": 1,
   "metadata": {},
   "outputs": [],
   "source": [
    "# Libraries\n",
    "# https://docs.scipy.org/doc/scipy/reference/generated/scipy.stats.norm.html\n",
    "# https://kite.com/python/examples/702/scipy-compute-a-confidence-interval-from-a-dataset\n",
    "\n",
    "from scipy.stats import sem, t\n",
    "from scipy import mean"
   ]
  },
  {
   "cell_type": "markdown",
   "metadata": {},
   "source": [
    "## Challenge 1\n",
    "We want to estimate the average size of the men of a country with a confidence level of 80%. Assuming that the standard deviation of the sizes in the population is 4, get the confidence interval with a sample of men selected randomly, whose heights are:\n",
    "\n",
    "````\n",
    "heights = [167, 167, 168, 168, 168, 169, 171, 172, 173, 175, 175, 175, 177, 182, 195]\n",
    "````\n",
    "\n",
    "**Hint**: function `stats.norm.interval` from `scipy` can help you get through this exercise. "
   ]
  },
  {
   "cell_type": "code",
   "execution_count": 2,
   "metadata": {},
   "outputs": [
    {
     "name": "stdout",
     "output_type": "stream",
     "text": [
      "The confidence interval with 08% confidence is: \n",
      "\n",
      " 168.09, 173.47, 178.85\n"
     ]
    }
   ],
   "source": [
    "# This is a variation to solve challenge 1 with: \n",
    "from scipy.stats import sem, t\n",
    "\n",
    "'''\n",
    "L.S. Looks good! Very nice that you tried several methods.  \n",
    "'''\n",
    "\n",
    "confidence = 0.80\n",
    "data = [167, 167, 168, 168, 168, 169, 171, 172, 173, 175, 175, 175, 177, 182, 195]\n",
    "\n",
    "n = len(data)\n",
    "m = mean(data)\n",
    "std_err = 4\n",
    "# standard deviation of the sizes in the population is 4\n",
    "h = std_err * t.ppf((1 + confidence) / 2, n - 1)\n",
    "\n",
    "start = m - h\n",
    "end = m + h\n",
    "\n",
    "print(\"The confidence interval with 08% confidence is: \\n\\n\", \"%.2f, %.2f, %.2f\" % (start, m, end))"
   ]
  },
  {
   "cell_type": "code",
   "execution_count": 3,
   "metadata": {},
   "outputs": [
    {
     "name": "stdout",
     "output_type": "stream",
     "text": [
      "The confidence interval with 08% confidence is: \n",
      "\n",
      " (164.35812913248898, 182.57520420084435) and the mean is 173.46666666666667\n"
     ]
    }
   ],
   "source": [
    "# https://stackoverflow.com/questions/28242593/correct-way-to-obtain-confidence-interval-with-scipy\n",
    "# This is a variation to solve challenge 1 with: \n",
    "from scipy import stats\n",
    "import numpy as np\n",
    "\n",
    "'''\n",
    "L.S. Good, however these values deviate from the ones above. Do you know why?\n",
    "'''\n",
    "\n",
    "mean, sigma = np.mean(data), np.std(data)\n",
    "# standard deviation of the sizes in the population is 4\n",
    "\n",
    "scale = 4 # not calculated sigma \n",
    "\n",
    "conf_int = stats.norm.interval(0.80, loc=mean, scale=sigma)\n",
    "print(\"The confidence interval with 08% confidence is: \\n\\n\", conf_int, \"and the mean is\", mean)\n"
   ]
  },
  {
   "cell_type": "markdown",
   "metadata": {},
   "source": [
    "## Challenge 2 \n",
    "In a sample of 105 shops selected randomly from an area, we note that 27 of them have had losses in this month. Get an interval for the proportion of businesses in the area with losses to a confidence level of 80% and a confidence level of 90%.\n",
    "\n",
    "**Hint**: function `stats.norm.interval` from `scipy` can help you get through this exercise. "
   ]
  },
  {
   "cell_type": "code",
   "execution_count": 5,
   "metadata": {},
   "outputs": [
    {
     "name": "stdout",
     "output_type": "stream",
     "text": [
      "Lower confidence interval of 80%: 0.20248138545542083\n",
      "Upper confidence interval of 80%: 0.3118043288302934\n",
      "Lower confidence interval of 90%: 0.1869856177645281\n",
      "Upper confidence interval of 90%: 0.32730009652118613\n"
     ]
    }
   ],
   "source": [
    "# your code here\n",
    "# https://pythonhealthcare.org/2018/04/13/57-statistics-confidence-interval-for-a-single-proportion/\n",
    "\n",
    "import statsmodels.stats.proportion as smp\n",
    "\n",
    "'''\n",
    "L.S. Good!\n",
    "'''\n",
    "\n",
    "# e.g. 27 out of a sample 105 (26%) people have a los.\n",
    "# What are the 80% and 90% confidence intervals on the proportion?\n",
    "\n",
    "lower, upper = smp.proportion_confint (27, 105, alpha=0.2, method='normal')\n",
    "print ('Lower confidence interval of 80%:', lower)\n",
    "print ('Upper confidence interval of 80%:', upper)\n",
    "\n",
    "lower_90, upper_90 = smp.proportion_confint (27, 105, alpha=0.1, method='normal')\n",
    "print ('Lower confidence interval of 90%:', lower_90)\n",
    "print ('Upper confidence interval of 90%:', upper_90)\n"
   ]
  },
  {
   "cell_type": "markdown",
   "metadata": {},
   "source": [
    "## Challenge 3 - More practice\n",
    "For the same example in challenge 1, calculate a confidence interval for the variance at 90% level.\n",
    "\n",
    "**Hint**: function `stats.chi2.interval` from `scipy` can help you get through this exercise. "
   ]
  },
  {
   "cell_type": "code",
   "execution_count": 6,
   "metadata": {},
   "outputs": [
    {
     "data": {
      "text/plain": [
       "(186.7914458358548, 219.33720183248928)"
      ]
     },
     "execution_count": 6,
     "metadata": {},
     "output_type": "execute_result"
    }
   ],
   "source": [
    "# your code here\n",
    "# https://docs.scipy.org/doc/scipy/reference/generated/scipy.stats.chi2.html\n",
    "from scipy.stats import chi2\n",
    "\n",
    "'''\n",
    "L.S. Very nice!\n",
    "'''\n",
    "\n",
    "data = [167, 167, 168, 168, 168, 169, 171, 172, 173, 175, 175, 175, 177, 182, 195]\n",
    "\n",
    "\n",
    "sigma =  np.std(data) # via numpy calculates the standart deviatin of the sample data\n",
    "df = len(data) # length on the sample / amounds of data point in the sample \n",
    "alpha = 0.9 # is sometime 1-confidence or the confidence inself --> this will be indicated in the instruction \n",
    "mean = np.mean(data) # via numpy mean calculates the mean of the sample data \n",
    "#np.std\n",
    "\n",
    "\n",
    "stats.chi2.interval(alpha, df, loc=mean, scale=sigma/np.sqrt(df))\n",
    "\n"
   ]
  },
  {
   "cell_type": "code",
   "execution_count": null,
   "metadata": {},
   "outputs": [],
   "source": [
    "# QIESTIONS I HAD IN THE BEGINNING \n",
    "# why the output is an array??\n",
    "# does is plot the probability density function (pdf)\n",
    "# mean, var, skew, kurt = chi2.stats(data, moments='mvsk') --> this function creates the array --> see ||stats|| "
   ]
  },
  {
   "cell_type": "markdown",
   "metadata": {},
   "source": [
    "## Challenge 4 - More practice\n",
    "The sulfuric acid content of 7 similar containers is 9.8, 10.2, 10.4, 9.8, 10.0, 10.2 and 9.6 liters. Calculate a 95% confidence interval for the average content of all containers assuming an approximately normal distribution.\n",
    "\n",
    "```\n",
    "acid = [9.8, 10.2, 10.4, 9.8, 10.0, 10.2, 9.6]\n",
    "```\n",
    "\n",
    "**Hint**: function `stats.t.interval` from `scipy` can help you get through this exercise. "
   ]
  },
  {
   "cell_type": "code",
   "execution_count": 46,
   "metadata": {},
   "outputs": [
    {
     "data": {
      "text/plain": [
       "(9.765962894653752, 10.234037105346248)"
      ]
     },
     "execution_count": 46,
     "metadata": {},
     "output_type": "execute_result"
    }
   ],
   "source": [
    "# your code here\n",
    "# https://docs.scipy.org/doc/scipy/reference/generated/scipy.stats.t.html\n",
    "\n",
    "'''\n",
    "L.S. Good!\n",
    "'''\n",
    "\n",
    "from scipy.stats import t\n",
    "acid = [9.8, 10.2, 10.4, 9.8, 10.0, 10.2, 9.6]\n",
    "\n",
    "alpha = 0.95 # confidence\n",
    "df = len(acid) # length data set \n",
    "loc = np.mean(acid) # mean \n",
    "sigma = np.std(acid) # standard deviation of sample set \n",
    "scale = sigma/np.sqrt(df) \n",
    "\n",
    "stats.t.interval(alpha, df, loc, scale) # Endpoints of the range that contains alpha percent of the distribution\n",
    "\n"
   ]
  },
  {
   "cell_type": "markdown",
   "metadata": {},
   "source": [
    "## Bonus Challenge\n",
    "The error level or sampling error for the first challenge is given by the following expression:\n",
    "$$Error = z_{\\frac{\\alpha}{2}}\\frac{\\sigma}{\\sqrt n}$$\n",
    "Where z represents the value for N(0,1)\n",
    "\n",
    "\n",
    "Suppose that with the previous data of challenge 1, and with a confidence level of\n",
    "99% (that is, almost certainly) we want to estimate the average population size, so that the error level committed is not greater than half a centimeter.\n",
    "\n",
    "#### 1.- Determine what size the selected sample of men should be."
   ]
  },
  {
   "cell_type": "code",
   "execution_count": null,
   "metadata": {},
   "outputs": [],
   "source": [
    "# your code here"
   ]
  },
  {
   "cell_type": "markdown",
   "metadata": {},
   "source": [
    "#### 2.- For the second challenge, we have the following error:\n",
    "$$ Error = z_{\\frac{\\alpha}{2}}\\sqrt{\\frac{p\\times q}{n}} $$\n",
    "#### Determine the sample size required to not exceed an error of 1% with a confidence of 80%."
   ]
  },
  {
   "cell_type": "code",
   "execution_count": null,
   "metadata": {},
   "outputs": [],
   "source": [
    "# your code here"
   ]
  },
  {
   "cell_type": "markdown",
   "metadata": {},
   "source": [
    "## Bonus Challenge\n",
    "\n",
    "Let's consider the following problem:\n",
    "\n",
    "Build a confidence interval of 94% for the real difference between the durations of two brands of spotlights, if a sample of 40 spotlights taken randomly from the first mark gave an average duration of 418 hours, and a sample of 50 bulbs of another brand gave a duration average of 402 hours. The standard deviations of the two\n",
    "populations are 26 hours and 22 hours, respectively.\n",
    "\n",
    "Sometimes, we will be interested in the difference of two different groups of random variables. We can also build a confidence interval for that! We have some different cases regarding the variance but for this specific case (the variance are different and known), we have that:\n",
    "\n",
    "$$\\overline{X} - \\overline{Y}  \\sim N(\\mu_{X} - \\mu_{Y} , \\sqrt{\\frac{\\sigma_{X}^2}{n_X}+\\frac{\\sigma_{Y}^2}{n_Y}})$$\n",
    "\n",
    "Solve the problem with this information."
   ]
  },
  {
   "cell_type": "code",
   "execution_count": null,
   "metadata": {},
   "outputs": [],
   "source": [
    "# your code here"
   ]
  }
 ],
 "metadata": {
  "kernelspec": {
   "display_name": "Python 3",
   "language": "python",
   "name": "python3"
  },
  "language_info": {
   "codemirror_mode": {
    "name": "ipython",
    "version": 3
   },
   "file_extension": ".py",
   "mimetype": "text/x-python",
   "name": "python",
   "nbconvert_exporter": "python",
   "pygments_lexer": "ipython3",
   "version": "3.6.7"
  }
 },
 "nbformat": 4,
 "nbformat_minor": 2
}
